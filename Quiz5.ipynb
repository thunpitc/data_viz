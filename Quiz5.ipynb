{
  "nbformat": 4,
  "nbformat_minor": 0,
  "metadata": {
    "colab": {
      "name": "Quiz5.ipynb",
      "provenance": [],
      "authorship_tag": "ABX9TyNbCea3b5Yt0JdMsLdf3esj",
      "include_colab_link": true
    },
    "kernelspec": {
      "name": "python3",
      "display_name": "Python 3"
    },
    "language_info": {
      "name": "python"
    }
  },
  "cells": [
    {
      "cell_type": "markdown",
      "metadata": {
        "id": "view-in-github",
        "colab_type": "text"
      },
      "source": [
        "<a href=\"https://colab.research.google.com/github/thunpitc/data_viz/blob/main/Quiz5.ipynb\" target=\"_parent\"><img src=\"https://colab.research.google.com/assets/colab-badge.svg\" alt=\"Open In Colab\"/></a>"
      ]
    },
    {
      "cell_type": "markdown",
      "metadata": {
        "id": "nZUBIV3-8JMt"
      },
      "source": [
        "จากไฟล์ example_timestam.csv\n",
        "เปรียบเทียบผลรวม alpha และbeta ของข้อมูลก่อนและตั้งแต่วันที่ 2 มิถุนายน 2020\n"
      ]
    },
    {
      "cell_type": "code",
      "metadata": {
        "id": "_DZu0vtq0xfy"
      },
      "source": [
        "  import pandas as pd"
      ],
      "execution_count": 3,
      "outputs": []
    },
    {
      "cell_type": "code",
      "metadata": {
        "id": "FxaGxirs8qTA"
      },
      "source": [
        " data  =  pd.read_csv('/content/example_timestamp.csv')"
      ],
      "execution_count": 4,
      "outputs": []
    },
    {
      "cell_type": "code",
      "metadata": {
        "id": "6sZeXH2AVank",
        "outputId": "ef399a4f-559b-4b7f-b0d7-3ff86bcf10f4",
        "colab": {
          "base_uri": "https://localhost:8080/",
          "height": 266
        }
      },
      "source": [
        "data"
      ],
      "execution_count": 5,
      "outputs": [
        {
          "output_type": "execute_result",
          "data": {
            "text/html": [
              "<div>\n",
              "<style scoped>\n",
              "    .dataframe tbody tr th:only-of-type {\n",
              "        vertical-align: middle;\n",
              "    }\n",
              "\n",
              "    .dataframe tbody tr th {\n",
              "        vertical-align: top;\n",
              "    }\n",
              "\n",
              "    .dataframe thead th {\n",
              "        text-align: right;\n",
              "    }\n",
              "</style>\n",
              "<table border=\"1\" class=\"dataframe\">\n",
              "  <thead>\n",
              "    <tr style=\"text-align: right;\">\n",
              "      <th></th>\n",
              "      <th>Unnamed: 0</th>\n",
              "      <th>alpha</th>\n",
              "      <th>beta</th>\n",
              "    </tr>\n",
              "  </thead>\n",
              "  <tbody>\n",
              "    <tr>\n",
              "      <th>0</th>\n",
              "      <td>2020-05-29</td>\n",
              "      <td>8.78</td>\n",
              "      <td>24</td>\n",
              "    </tr>\n",
              "    <tr>\n",
              "      <th>1</th>\n",
              "      <td>2020-05-30</td>\n",
              "      <td>13.00</td>\n",
              "      <td>25</td>\n",
              "    </tr>\n",
              "    <tr>\n",
              "      <th>2</th>\n",
              "      <td>2020-05-31</td>\n",
              "      <td>0.44</td>\n",
              "      <td>25</td>\n",
              "    </tr>\n",
              "    <tr>\n",
              "      <th>3</th>\n",
              "      <td>2020-06-01</td>\n",
              "      <td>1.94</td>\n",
              "      <td>28</td>\n",
              "    </tr>\n",
              "    <tr>\n",
              "      <th>4</th>\n",
              "      <td>2020-06-02</td>\n",
              "      <td>5.40</td>\n",
              "      <td>20</td>\n",
              "    </tr>\n",
              "    <tr>\n",
              "      <th>5</th>\n",
              "      <td>2020-06-03</td>\n",
              "      <td>5.68</td>\n",
              "      <td>21</td>\n",
              "    </tr>\n",
              "    <tr>\n",
              "      <th>6</th>\n",
              "      <td>2020-06-04</td>\n",
              "      <td>2.64</td>\n",
              "      <td>16</td>\n",
              "    </tr>\n",
              "  </tbody>\n",
              "</table>\n",
              "</div>"
            ],
            "text/plain": [
              "   Unnamed: 0  alpha  beta\n",
              "0  2020-05-29   8.78    24\n",
              "1  2020-05-30  13.00    25\n",
              "2  2020-05-31   0.44    25\n",
              "3  2020-06-01   1.94    28\n",
              "4  2020-06-02   5.40    20\n",
              "5  2020-06-03   5.68    21\n",
              "6  2020-06-04   2.64    16"
            ]
          },
          "metadata": {
            "tags": []
          },
          "execution_count": 5
        }
      ]
    },
    {
      "cell_type": "code",
      "metadata": {
        "id": "Eu4DHZQIVrGX",
        "outputId": "6c6b4340-7a86-4d90-b664-9e58e931c2d7",
        "colab": {
          "base_uri": "https://localhost:8080/",
          "height": 34
        }
      },
      "source": [
        "data.iloc[0,0]"
      ],
      "execution_count": 6,
      "outputs": [
        {
          "output_type": "execute_result",
          "data": {
            "application/vnd.google.colaboratory.intrinsic+json": {
              "type": "string"
            },
            "text/plain": [
              "'2020-05-29'"
            ]
          },
          "metadata": {
            "tags": []
          },
          "execution_count": 6
        }
      ]
    },
    {
      "cell_type": "code",
      "metadata": {
        "id": "ZwBq_v1zVvw5"
      },
      "source": [
        "from datetime import datetime"
      ],
      "execution_count": 7,
      "outputs": []
    },
    {
      "cell_type": "markdown",
      "metadata": {
        "id": "bJ_sdPNxV9Sl"
      },
      "source": [
        "https://docs.python.org/3/library/datetime.html#strftime-and-strptime-behavior"
      ]
    },
    {
      "cell_type": "code",
      "metadata": {
        "id": "b7CkGkjMVyzJ",
        "outputId": "9f026b62-aab3-4468-eed5-e5f9577f2fa8",
        "colab": {
          "base_uri": "https://localhost:8080/",
          "height": 266
        }
      },
      "source": [
        "data['Unnamed: 0'] = pd.to_datetime(data['Unnamed: 0'], format='%Y-%m-%d')\n",
        "data"
      ],
      "execution_count": 8,
      "outputs": [
        {
          "output_type": "execute_result",
          "data": {
            "text/html": [
              "<div>\n",
              "<style scoped>\n",
              "    .dataframe tbody tr th:only-of-type {\n",
              "        vertical-align: middle;\n",
              "    }\n",
              "\n",
              "    .dataframe tbody tr th {\n",
              "        vertical-align: top;\n",
              "    }\n",
              "\n",
              "    .dataframe thead th {\n",
              "        text-align: right;\n",
              "    }\n",
              "</style>\n",
              "<table border=\"1\" class=\"dataframe\">\n",
              "  <thead>\n",
              "    <tr style=\"text-align: right;\">\n",
              "      <th></th>\n",
              "      <th>Unnamed: 0</th>\n",
              "      <th>alpha</th>\n",
              "      <th>beta</th>\n",
              "    </tr>\n",
              "  </thead>\n",
              "  <tbody>\n",
              "    <tr>\n",
              "      <th>0</th>\n",
              "      <td>2020-05-29</td>\n",
              "      <td>8.78</td>\n",
              "      <td>24</td>\n",
              "    </tr>\n",
              "    <tr>\n",
              "      <th>1</th>\n",
              "      <td>2020-05-30</td>\n",
              "      <td>13.00</td>\n",
              "      <td>25</td>\n",
              "    </tr>\n",
              "    <tr>\n",
              "      <th>2</th>\n",
              "      <td>2020-05-31</td>\n",
              "      <td>0.44</td>\n",
              "      <td>25</td>\n",
              "    </tr>\n",
              "    <tr>\n",
              "      <th>3</th>\n",
              "      <td>2020-06-01</td>\n",
              "      <td>1.94</td>\n",
              "      <td>28</td>\n",
              "    </tr>\n",
              "    <tr>\n",
              "      <th>4</th>\n",
              "      <td>2020-06-02</td>\n",
              "      <td>5.40</td>\n",
              "      <td>20</td>\n",
              "    </tr>\n",
              "    <tr>\n",
              "      <th>5</th>\n",
              "      <td>2020-06-03</td>\n",
              "      <td>5.68</td>\n",
              "      <td>21</td>\n",
              "    </tr>\n",
              "    <tr>\n",
              "      <th>6</th>\n",
              "      <td>2020-06-04</td>\n",
              "      <td>2.64</td>\n",
              "      <td>16</td>\n",
              "    </tr>\n",
              "  </tbody>\n",
              "</table>\n",
              "</div>"
            ],
            "text/plain": [
              "  Unnamed: 0  alpha  beta\n",
              "0 2020-05-29   8.78    24\n",
              "1 2020-05-30  13.00    25\n",
              "2 2020-05-31   0.44    25\n",
              "3 2020-06-01   1.94    28\n",
              "4 2020-06-02   5.40    20\n",
              "5 2020-06-03   5.68    21\n",
              "6 2020-06-04   2.64    16"
            ]
          },
          "metadata": {
            "tags": []
          },
          "execution_count": 8
        }
      ]
    },
    {
      "cell_type": "code",
      "metadata": {
        "id": "6O4_K2DwV_o6",
        "outputId": "3e161b5a-3acd-46bb-c60e-f51e4cb2413d",
        "colab": {
          "base_uri": "https://localhost:8080/"
        }
      },
      "source": [
        "data.iloc[0,0]"
      ],
      "execution_count": 9,
      "outputs": [
        {
          "output_type": "execute_result",
          "data": {
            "text/plain": [
              "Timestamp('2020-05-29 00:00:00')"
            ]
          },
          "metadata": {
            "tags": []
          },
          "execution_count": 9
        }
      ]
    },
    {
      "cell_type": "code",
      "metadata": {
        "id": "dM2KnGYZWGgn",
        "outputId": "258556b0-a5bd-4415-be91-a75b7c8c7532",
        "colab": {
          "base_uri": "https://localhost:8080/"
        }
      },
      "source": [
        "A = data[data['Unnamed: 0']<datetime(day=2,month=6,year=2020)].sum()\n",
        "print(A)"
      ],
      "execution_count": 10,
      "outputs": [
        {
          "output_type": "stream",
          "text": [
            "alpha     24.16\n",
            "beta     102.00\n",
            "dtype: float64\n"
          ],
          "name": "stdout"
        }
      ]
    },
    {
      "cell_type": "code",
      "metadata": {
        "id": "HWy8VuUmWJrj",
        "outputId": "faaf05c9-fa4f-4c64-e4ac-dad52fa3b148",
        "colab": {
          "base_uri": "https://localhost:8080/"
        }
      },
      "source": [
        "A['alpha']"
      ],
      "execution_count": 11,
      "outputs": [
        {
          "output_type": "execute_result",
          "data": {
            "text/plain": [
              "24.160000000000004"
            ]
          },
          "metadata": {
            "tags": []
          },
          "execution_count": 11
        }
      ]
    },
    {
      "cell_type": "code",
      "metadata": {
        "id": "gJEPBm5GWLuO",
        "outputId": "43b6439e-9bde-4ae4-a8b1-438fe1a08a47",
        "colab": {
          "base_uri": "https://localhost:8080/"
        }
      },
      "source": [
        "data[data['Unnamed: 0']>=datetime(day=2,month=6,year=2020)].sum()"
      ],
      "execution_count": 12,
      "outputs": [
        {
          "output_type": "execute_result",
          "data": {
            "text/plain": [
              "alpha    13.72\n",
              "beta     57.00\n",
              "dtype: float64"
            ]
          },
          "metadata": {
            "tags": []
          },
          "execution_count": 12
        }
      ]
    },
    {
      "cell_type": "code",
      "metadata": {
        "id": "nPJ7mSxyWOOL",
        "outputId": "1296fd69-d165-4dc2-e028-e55df87d3017",
        "colab": {
          "base_uri": "https://localhost:8080/"
        }
      },
      "source": [
        "print(f\"ผลรวมของค่า alpha ก่อนวันที่ 2 มิ.ย. 2020 คือ {A['alpha']:.2f}\")"
      ],
      "execution_count": 13,
      "outputs": [
        {
          "output_type": "stream",
          "text": [
            "ผลรวมของค่า alpha ก่อนวันที่ 2 มิ.ย. 2020 คือ 24.16\n"
          ],
          "name": "stdout"
        }
      ]
    },
    {
      "cell_type": "markdown",
      "metadata": {
        "id": "7_ZCYBKiWSU3"
      },
      "source": [
        "###Query how?"
      ]
    },
    {
      "cell_type": "code",
      "metadata": {
        "id": "5EE8TNzpWbg8",
        "outputId": "4445ceae-c642-4a4a-dbb8-8587ad56663c",
        "colab": {
          "base_uri": "https://localhost:8080/",
          "height": 80
        }
      },
      "source": [
        "data.query('alpha == 1.94')"
      ],
      "execution_count": 16,
      "outputs": [
        {
          "output_type": "execute_result",
          "data": {
            "text/html": [
              "<div>\n",
              "<style scoped>\n",
              "    .dataframe tbody tr th:only-of-type {\n",
              "        vertical-align: middle;\n",
              "    }\n",
              "\n",
              "    .dataframe tbody tr th {\n",
              "        vertical-align: top;\n",
              "    }\n",
              "\n",
              "    .dataframe thead th {\n",
              "        text-align: right;\n",
              "    }\n",
              "</style>\n",
              "<table border=\"1\" class=\"dataframe\">\n",
              "  <thead>\n",
              "    <tr style=\"text-align: right;\">\n",
              "      <th></th>\n",
              "      <th>Unnamed: 0</th>\n",
              "      <th>alpha</th>\n",
              "      <th>beta</th>\n",
              "    </tr>\n",
              "  </thead>\n",
              "  <tbody>\n",
              "    <tr>\n",
              "      <th>3</th>\n",
              "      <td>2020-06-01</td>\n",
              "      <td>1.94</td>\n",
              "      <td>28</td>\n",
              "    </tr>\n",
              "  </tbody>\n",
              "</table>\n",
              "</div>"
            ],
            "text/plain": [
              "  Unnamed: 0  alpha  beta\n",
              "3 2020-06-01   1.94    28"
            ]
          },
          "metadata": {
            "tags": []
          },
          "execution_count": 16
        }
      ]
    },
    {
      "cell_type": "code",
      "metadata": {
        "id": "ZVC6QPZeX9Ry",
        "outputId": "f3e9b6f9-0ae4-42fe-e398-7898fad6a385",
        "colab": {
          "base_uri": "https://localhost:8080/",
          "height": 80
        }
      },
      "source": [
        "data[data['alpha']==1.94]"
      ],
      "execution_count": 17,
      "outputs": [
        {
          "output_type": "execute_result",
          "data": {
            "text/html": [
              "<div>\n",
              "<style scoped>\n",
              "    .dataframe tbody tr th:only-of-type {\n",
              "        vertical-align: middle;\n",
              "    }\n",
              "\n",
              "    .dataframe tbody tr th {\n",
              "        vertical-align: top;\n",
              "    }\n",
              "\n",
              "    .dataframe thead th {\n",
              "        text-align: right;\n",
              "    }\n",
              "</style>\n",
              "<table border=\"1\" class=\"dataframe\">\n",
              "  <thead>\n",
              "    <tr style=\"text-align: right;\">\n",
              "      <th></th>\n",
              "      <th>Unnamed: 0</th>\n",
              "      <th>alpha</th>\n",
              "      <th>beta</th>\n",
              "    </tr>\n",
              "  </thead>\n",
              "  <tbody>\n",
              "    <tr>\n",
              "      <th>3</th>\n",
              "      <td>2020-06-01</td>\n",
              "      <td>1.94</td>\n",
              "      <td>28</td>\n",
              "    </tr>\n",
              "  </tbody>\n",
              "</table>\n",
              "</div>"
            ],
            "text/plain": [
              "  Unnamed: 0  alpha  beta\n",
              "3 2020-06-01   1.94    28"
            ]
          },
          "metadata": {
            "tags": []
          },
          "execution_count": 17
        }
      ]
    },
    {
      "cell_type": "markdown",
      "metadata": {
        "id": "--_3Pe6KYAs3"
      },
      "source": [
        "##จากไฟล์ search_clicks.csv\n",
        "เปรียบเทียบเวลาเฉลี่ยที่ใช้ในการกดเลือกร้าน time_diff_nanos ระหว่างช่วงเวลา\n",
        "10.00-10.59 กับ 23.00-23.59 ว่าช่วงเวลาไหนมี time_diff_nanos น้อยกว่ากัน¶"
      ]
    },
    {
      "cell_type": "code",
      "metadata": {
        "id": "w-MPuTYPYBV3"
      },
      "source": [
        ""
      ],
      "execution_count": null,
      "outputs": []
    }
  ]
}