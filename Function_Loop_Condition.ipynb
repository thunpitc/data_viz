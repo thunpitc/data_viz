{
  "nbformat": 4,
  "nbformat_minor": 0,
  "metadata": {
    "colab": {
      "name": "Function_Loop_Condition.ipynb",
      "provenance": [],
      "authorship_tag": "ABX9TyNNS4+mSnw77S9pjJuwnFXp",
      "include_colab_link": true
    },
    "kernelspec": {
      "name": "python3",
      "display_name": "Python 3"
    }
  },
  "cells": [
    {
      "cell_type": "markdown",
      "metadata": {
        "id": "view-in-github",
        "colab_type": "text"
      },
      "source": [
        "<a href=\"https://colab.research.google.com/github/thunpitc/data_viz/blob/main/Function_Loop_Condition.ipynb\" target=\"_parent\"><img src=\"https://colab.research.google.com/assets/colab-badge.svg\" alt=\"Open In Colab\"/></a>"
      ]
    },
    {
      "cell_type": "code",
      "metadata": {
        "colab": {
          "base_uri": "https://localhost:8080/"
        },
        "id": "dzL4xUONSm1L",
        "outputId": "b8917e92-b2aa-4fbe-c68a-729eb5730a10"
      },
      "source": [
        "name = 'ธัญพิชชา'\r\n",
        "surname = 'ฤาไกรศรี'\r\n",
        "ID = '603021821-9'\r\n",
        "\r\n",
        "b= f'ชื่อ {name} นามสกุล {surname} รหัส {ID}'\r\n",
        "print (b)\r\n",
        "\r\n",
        "#แบบดั่งเดิม"
      ],
      "execution_count": 1,
      "outputs": [
        {
          "output_type": "stream",
          "text": [
            "ชื่อ ธัญพิชชา นามสกุล ฤาไกรศรี รหัส 603021821-9\n"
          ],
          "name": "stdout"
        }
      ]
    },
    {
      "cell_type": "markdown",
      "metadata": {
        "id": "rVRnUZoRSJOc"
      },
      "source": [
        "## Function"
      ]
    },
    {
      "cell_type": "markdown",
      "metadata": {
        "id": "bZxI2oivShoI"
      },
      "source": [
        "## Function template\r\n",
        "### ทำหน้าที่รับ input มาประมวณผลออกมาเป็น output\r\n",
        "### f(x) = y"
      ]
    },
    {
      "cell_type": "markdown",
      "metadata": {
        "id": "Pry_3QFPz8FG"
      },
      "source": [
        "## def คือการกำหนดฟังก์ชัน"
      ]
    },
    {
      "cell_type": "markdown",
      "metadata": {
        "id": "HmUEz0ju0TA5"
      },
      "source": [
        "```python\r\n",
        "       def function_name(_Input_) :\r\n",
        "             do_something with _Input_ to get _Output_\r\n",
        "             return _Output_\r\n",
        "```\r\n",
        "\r\n",
        "\r\n",
        "\r\n",
        "\r\n"
      ]
    },
    {
      "cell_type": "markdown",
      "metadata": {
        "id": "NUoGCglNijjz"
      },
      "source": [
        "back tick กด  alt 9>6\r\n",
        " ฟังก์ชั่นมีส่วนสำคัญทั้งหมด 4 ส่วน\r\n",
        " 1. บอก python ว่าเราจะเขียนฟัวก์ชั่น ชื่ออะไร ```def function_name() : ```\r\n",
        " 2. กำหนดตัวแปรที่จะเป็น input ```_Input_``` (ขาดได้)\r\n",
        " 3. ส่วนประมวลผล ```do_something with _Input_ to get _Output_ ```(ขาดไม่ได้)\r\n",
        " 4. ส่วน output return _Output_ (ขาดได้)\r\n"
      ]
    },
    {
      "cell_type": "markdown",
      "metadata": {
        "id": "Cyjqj0x8ZCQM"
      },
      "source": [
        "###ต้องการเขียน normal function"
      ]
    },
    {
      "cell_type": "code",
      "metadata": {
        "id": "aHX8oR9p0SEI"
      },
      "source": [
        "def print_name (surname , ID , name) :\r\n",
        "    st=f'ชื่อ {name} นามสกุล {surname} รหัส {ID}'\r\n",
        "    return st"
      ],
      "execution_count": 4,
      "outputs": []
    },
    {
      "cell_type": "code",
      "metadata": {
        "colab": {
          "base_uri": "https://localhost:8080/",
          "height": 34
        },
        "id": "1Lwkd2Hq0bCD",
        "outputId": "6d9dfcb7-2ea8-41a9-ef04-248c16942b1a"
      },
      "source": [
        "print_name('ฤาไกรศรี','603021821-9','ธัญพิชชา')"
      ],
      "execution_count": 5,
      "outputs": [
        {
          "output_type": "execute_result",
          "data": {
            "application/vnd.google.colaboratory.intrinsic+json": {
              "type": "string"
            },
            "text/plain": [
              "'ชื่อ ธัญพิชชา นามสกุล ฤาไกรศรี รหัส 603021821-9'"
            ]
          },
          "metadata": {
            "tags": []
          },
          "execution_count": 5
        }
      ]
    },
    {
      "cell_type": "code",
      "metadata": {
        "colab": {
          "base_uri": "https://localhost:8080/"
        },
        "id": "DP1lnbmF0evW",
        "outputId": "d931e2c5-c61d-4434-eea5-552e8a615179"
      },
      "source": [
        "print(print_name(name= 'ธัญพิชชา', surname= 'ฤาไกรศรี', ID= '603021821-9'))"
      ],
      "execution_count": 6,
      "outputs": [
        {
          "output_type": "stream",
          "text": [
            "ชื่อ ธัญพิชชา นามสกุล ฤาไกรศรี รหัส 603021821-9\n"
          ],
          "name": "stdout"
        }
      ]
    },
    {
      "cell_type": "markdown",
      "metadata": {
        "id": "FpYAvNJOZ3vP"
      },
      "source": [
        "เราใช้ เว้นวรรค เพื่อบอกขอบเขตของโปรแกรม\r\n",
        "\r\n",
        "ฟังก์ชันไม่จำเป็นต้องมีoutput"
      ]
    },
    {
      "cell_type": "code",
      "metadata": {
        "id": "Dj8ELqQlZekF"
      },
      "source": [
        "def print_name2 (surname , ID , name) :\r\n",
        "    st=f'ชื่อ {name} นามสกุล {surname} รหัส {ID}'\r\n",
        "    print (st)"
      ],
      "execution_count": 14,
      "outputs": []
    },
    {
      "cell_type": "code",
      "metadata": {
        "colab": {
          "base_uri": "https://localhost:8080/"
        },
        "id": "ZTfbsBjUaGyS",
        "outputId": "329f7da2-55e4-4912-df52-73eb4075430a"
      },
      "source": [
        "print_name2(name= 'ธัญพิชชา', surname= 'ฤาไกรศรี', ID= '603021821-9')"
      ],
      "execution_count": 16,
      "outputs": [
        {
          "output_type": "stream",
          "text": [
            "ชื่อ ธัญพิชชา นามสกุล ฤาไกรศรี รหัส 603021821-9\n"
          ],
          "name": "stdout"
        }
      ]
    },
    {
      "cell_type": "markdown",
      "metadata": {
        "id": "KlwuV8CPa2-4"
      },
      "source": [
        "**ฟังก์ชั่นไม่จำเป็นต้องมี input**"
      ]
    },
    {
      "cell_type": "code",
      "metadata": {
        "id": "3SJt4iLpaa8W"
      },
      "source": [
        "def Pi():\r\n",
        "      return 3.14159265359"
      ],
      "execution_count": null,
      "outputs": []
    },
    {
      "cell_type": "code",
      "metadata": {
        "colab": {
          "base_uri": "https://localhost:8080/"
        },
        "id": "e3kha_JvbcbC",
        "outputId": "db6fd62c-ed3c-4edd-b6a8-75f6158577d3"
      },
      "source": [
        "Pi()*(2**2) # หาพื้นที่ของวงกลมที่มีรัศมีเท่ากับ Pi* r**2"
      ],
      "execution_count": null,
      "outputs": [
        {
          "output_type": "execute_result",
          "data": {
            "text/plain": [
              "12.56637061436"
            ]
          },
          "metadata": {
            "tags": []
          },
          "execution_count": 10
        }
      ]
    },
    {
      "cell_type": "markdown",
      "metadata": {
        "id": "3q1Ax1iPcNex"
      },
      "source": [
        "### เราสามารถกำหนดค่า default (ค่าเริ่มต้น) ให้กับฟังก์ชั่นได้ "
      ]
    },
    {
      "cell_type": "code",
      "metadata": {
        "id": "smr8odNHcqTp"
      },
      "source": [
        "def print_2lines_default(name, surname, ID, grade='F'): #ค่าเกรดFคือค่าเริ่มเต้น\r\n",
        "    st=f'ชื่อ {name} นามสกุล {surname} รหัส {ID}'\r\n",
        "    print (st)\r\n",
        "    st2=f'เกรดวิชา Data viz >> {grade}'\r\n",
        "    print (st2)\r\n",
        "    "
      ],
      "execution_count": 22,
      "outputs": []
    },
    {
      "cell_type": "code",
      "metadata": {
        "colab": {
          "base_uri": "https://localhost:8080/"
        },
        "id": "6TD6DR1PeH7d",
        "outputId": "ff4680bc-8d2b-4bad-d9e6-779aa0d7b26e"
      },
      "source": [
        " print_2lines_default('ธัญพิชชา', 'ฤาไกรศรี', '603021821-9')"
      ],
      "execution_count": 23,
      "outputs": [
        {
          "output_type": "stream",
          "text": [
            "ชื่อ ธัญพิชชา นามสกุล ฤาไกรศรี รหัส 603021821-9\n",
            "เกรดวิชา Data viz >> F\n"
          ],
          "name": "stdout"
        }
      ]
    },
    {
      "cell_type": "code",
      "metadata": {
        "colab": {
          "base_uri": "https://localhost:8080/"
        },
        "id": "Vm91yZSIe9n0",
        "outputId": "7a899797-5b23-4b6f-ddb4-fa220ed950ed"
      },
      "source": [
        "print_2lines_default('ธัญพิชชา', 'ฤาไกรศรี', '603021821-9', 'A') #กำหนดเกรดเอง"
      ],
      "execution_count": 24,
      "outputs": [
        {
          "output_type": "stream",
          "text": [
            "ชื่อ ธัญพิชชา นามสกุล ฤาไกรศรี รหัส 603021821-9\n",
            "เกรดวิชา Data viz >> A\n"
          ],
          "name": "stdout"
        }
      ]
    },
    {
      "cell_type": "markdown",
      "metadata": {
        "id": "N_1om_Dq1MBV"
      },
      "source": [
        "### เราสามารถเพิ่มคำสั่งเข้าไปในฟังก์ชั่นอีกได้ โดยการเปลี่ยน คำสั่่ง return เป็น print()ได้ เช่นตัวอย่างนี้ ได้ทำการเพิ่ม"
      ]
    },
    {
      "cell_type": "markdown",
      "metadata": {
        "id": "i_qGD6W9hew6"
      },
      "source": [
        "##LOOP การวนซ้ำ"
      ]
    },
    {
      "cell_type": "markdown",
      "metadata": {
        "id": "itZNYveZiAoK"
      },
      "source": [
        "for เป็นคำที่ใช้บอก python ว่าเรากำลังเขียน loop\r\n",
        "โดย for จะวนดึงสมาชิกจาก ```listA```มาทำ process ```do_somthing```"
      ]
    },
    {
      "cell_type": "code",
      "metadata": {
        "id": "KUuJOnv6h9pW"
      },
      "source": [
        "for each_member in listA :\r\n",
        "  do_something"
      ],
      "execution_count": null,
      "outputs": []
    },
    {
      "cell_type": "markdown",
      "metadata": {
        "id": "XWeTqGq1h-jX"
      },
      "source": [
        ""
      ]
    },
    {
      "cell_type": "markdown",
      "metadata": {
        "id": "agqEQKrQ12-4"
      },
      "source": [
        "### คำสั่ง for เป็นคำสั่งวนซ้ำที่ใช้ควบคุมการทำงานว้ำๆในจำนวนรอบที่แน่นอน"
      ]
    },
    {
      "cell_type": "code",
      "metadata": {
        "colab": {
          "base_uri": "https://localhost:8080/"
        },
        "id": "OSSVLlJ81prs",
        "outputId": "5f41a43b-bff0-46bb-ebc7-dfd4bac70814"
      },
      "source": [
        "for i in [1,2,3] :\r\n",
        "     o = i**2 #ยกกำลัง2\r\n",
        "     print (f' this member = {i} after process = {o}')"
      ],
      "execution_count": 26,
      "outputs": [
        {
          "output_type": "stream",
          "text": [
            " this member = 1 after process = 1\n",
            " this member = 2 after process = 4\n",
            " this member = 3 after process = 9\n"
          ],
          "name": "stdout"
        }
      ]
    },
    {
      "cell_type": "markdown",
      "metadata": {
        "id": "k0L51_z92rY5"
      },
      "source": [
        "### จบวันที่ 7 มค. 64"
      ]
    },
    {
      "cell_type": "markdown",
      "metadata": {
        "id": "Q_Mp1KwMjl6b"
      },
      "source": [
        "###ตัวอย่างการใช้คำสั่ง for ในการวนซ้ำค่าของ i เมื่อ i คือ 'Thanapong' และคำสั่ง print"
      ]
    },
    {
      "cell_type": "code",
      "metadata": {
        "id": "uBRwRAxy2mFt",
        "colab": {
          "base_uri": "https://localhost:8080/"
        },
        "outputId": "cbe558a5-ba69-43d6-e60e-81e834d5a961"
      },
      "source": [
        "for i in 'Thanapong':\r\n",
        "    print(f'{i}')"
      ],
      "execution_count": 27,
      "outputs": [
        {
          "output_type": "stream",
          "text": [
            "T\n",
            "h\n",
            "a\n",
            "n\n",
            "a\n",
            "p\n",
            "o\n",
            "n\n",
            "g\n"
          ],
          "name": "stdout"
        }
      ]
    },
    {
      "cell_type": "code",
      "metadata": {
        "colab": {
          "base_uri": "https://localhost:8080/"
        },
        "id": "du-OAl1cjt7-",
        "outputId": "1ea87c98-f431-4ee3-ceba-b59a014d89f8"
      },
      "source": [
        "for i in 'Thanapong':\r\n",
        "    print(f'{i}->/',end= ' ' ) #สั่งให้ print แบบไม่เว้นบรรทัด"
      ],
      "execution_count": 28,
      "outputs": [
        {
          "output_type": "stream",
          "text": [
            "T->/ h->/ a->/ n->/ a->/ p->/ o->/ n->/ g->/ "
          ],
          "name": "stdout"
        }
      ]
    },
    {
      "cell_type": "code",
      "metadata": {
        "colab": {
          "base_uri": "https://localhost:8080/"
        },
        "id": "vRucXPuLjxum",
        "outputId": "e594f8a6-2e7d-4426-f67f-632b4a4d80c3"
      },
      "source": [
        "for i in 'Thanapong':\r\n",
        "    print(f'{i} - > / ' ,end = ',' ) #สั่งให้ print แบบไม่เว้นบรรทัด"
      ],
      "execution_count": null,
      "outputs": [
        {
          "output_type": "stream",
          "text": [
            "T - > / ,h - > / ,a - > / ,n - > / ,a - > / ,p - > / ,o - > / ,n - > / ,g - > / ,"
          ],
          "name": "stdout"
        }
      ]
    },
    {
      "cell_type": "markdown",
      "metadata": {
        "id": "Fu3sTvHDj-1i"
      },
      "source": [
        "## สร้าง list ตัวเลขแบบอัตโนมัติ rang()"
      ]
    },
    {
      "cell_type": "code",
      "metadata": {
        "id": "8MGrwateutBD",
        "outputId": "066b033c-882c-4ff4-e8d9-5ebb299fa4f8",
        "colab": {
          "base_uri": "https://localhost:8080/"
        }
      },
      "source": [
        "range5_output = range(5)\r\n",
        "print (range5_output)"
      ],
      "execution_count": 32,
      "outputs": [
        {
          "output_type": "stream",
          "text": [
            "range(0, 5)\n"
          ],
          "name": "stdout"
        }
      ]
    },
    {
      "cell_type": "code",
      "metadata": {
        "colab": {
          "base_uri": "https://localhost:8080/"
        },
        "id": "TjWa9xSzj4cl",
        "outputId": "e98d50d9-0c00-4b73-b625-10731639a242"
      },
      "source": [
        "range5_output = range(5)\r\n",
        "print (list(range5_output))"
      ],
      "execution_count": null,
      "outputs": [
        {
          "output_type": "stream",
          "text": [
            "[0, 1, 2, 3, 4]\n"
          ],
          "name": "stdout"
        }
      ]
    },
    {
      "cell_type": "code",
      "metadata": {
        "colab": {
          "base_uri": "https://localhost:8080/"
        },
        "id": "al6mnxl6kFRb",
        "outputId": "71f4bd61-305e-4422-c8d4-c4dfaaa11d5b"
      },
      "source": [
        "for i in range(100):\r\n",
        "    print('งง' ,end = ' ')"
      ],
      "execution_count": 31,
      "outputs": [
        {
          "output_type": "stream",
          "text": [
            "งง งง งง งง งง งง งง งง งง งง งง งง งง งง งง งง งง งง งง งง งง งง งง งง งง งง งง งง งง งง งง งง งง งง งง งง งง งง งง งง งง งง งง งง งง งง งง งง งง งง งง งง งง งง งง งง งง งง งง งง งง งง งง งง งง งง งง งง งง งง งง งง งง งง งง งง งง งง งง งง งง งง งง งง งง งง งง งง งง งง งง งง งง งง งง งง งง งง งง งง "
          ],
          "name": "stdout"
        }
      ]
    },
    {
      "cell_type": "code",
      "metadata": {
        "colab": {
          "base_uri": "https://localhost:8080/"
        },
        "id": "MLxW28gPkI0q",
        "outputId": "e596dc6d-ec67-4c56-aa20-4bf8af3acb92"
      },
      "source": [
        "list(range(1,11)) #เริ่มต้นเป็นวงกลมทึบ จบเป็นวงกลมโปร่ง เหมือน list slicing"
      ],
      "execution_count": 33,
      "outputs": [
        {
          "output_type": "execute_result",
          "data": {
            "text/plain": [
              "[1, 2, 3, 4, 5, 6, 7, 8, 9, 10]"
            ]
          },
          "metadata": {
            "tags": []
          },
          "execution_count": 33
        }
      ]
    },
    {
      "cell_type": "code",
      "metadata": {
        "colab": {
          "base_uri": "https://localhost:8080/"
        },
        "id": "t0XQy9spkMyr",
        "outputId": "554bdb60-cc12-4ea0-80b0-f7cde7f46202"
      },
      "source": [
        "list(range (-3,20,4)) #เริ่ม-3ไปจนถึง20แล้วstepทีละ4"
      ],
      "execution_count": 34,
      "outputs": [
        {
          "output_type": "execute_result",
          "data": {
            "text/plain": [
              "[-3, 1, 5, 9, 13, 17]"
            ]
          },
          "metadata": {
            "tags": []
          },
          "execution_count": 34
        }
      ]
    },
    {
      "cell_type": "markdown",
      "metadata": {
        "id": "HfVf4JEHkQxv"
      },
      "source": [
        "##loop in loop\r\n",
        "###สามาถใช้ for loop ซ้อนกันสองรอบได้"
      ]
    },
    {
      "cell_type": "code",
      "metadata": {
        "colab": {
          "base_uri": "https://localhost:8080/"
        },
        "id": "l1juRLb_kRzo",
        "outputId": "a4ff32f4-7b62-4bda-a108-7ae5bc76e637"
      },
      "source": [
        "for name1 in range(2,5): #loop นี้วิ่ง(2, 3, 4)\r\n",
        "    print(f'no name1 = {name1}')\r\n",
        "    for name2 in range(1,13):\r\n",
        "        print(name1,' x ',name2, ' = ',name1*name2)\r\n",
        "    print('the inner loop is end')"
      ],
      "execution_count": null,
      "outputs": [
        {
          "output_type": "stream",
          "text": [
            "no name1 = 2\n",
            "2  x  1  =  2\n",
            "2  x  2  =  4\n",
            "2  x  3  =  6\n",
            "2  x  4  =  8\n",
            "2  x  5  =  10\n",
            "2  x  6  =  12\n",
            "2  x  7  =  14\n",
            "2  x  8  =  16\n",
            "2  x  9  =  18\n",
            "2  x  10  =  20\n",
            "2  x  11  =  22\n",
            "2  x  12  =  24\n",
            "the inner loop is end\n",
            "no name1 = 3\n",
            "3  x  1  =  3\n",
            "3  x  2  =  6\n",
            "3  x  3  =  9\n",
            "3  x  4  =  12\n",
            "3  x  5  =  15\n",
            "3  x  6  =  18\n",
            "3  x  7  =  21\n",
            "3  x  8  =  24\n",
            "3  x  9  =  27\n",
            "3  x  10  =  30\n",
            "3  x  11  =  33\n",
            "3  x  12  =  36\n",
            "the inner loop is end\n",
            "no name1 = 4\n",
            "4  x  1  =  4\n",
            "4  x  2  =  8\n",
            "4  x  3  =  12\n",
            "4  x  4  =  16\n",
            "4  x  5  =  20\n",
            "4  x  6  =  24\n",
            "4  x  7  =  28\n",
            "4  x  8  =  32\n",
            "4  x  9  =  36\n",
            "4  x  10  =  40\n",
            "4  x  11  =  44\n",
            "4  x  12  =  48\n",
            "the inner loop is end\n"
          ],
          "name": "stdout"
        }
      ]
    },
    {
      "cell_type": "markdown",
      "metadata": {
        "id": "_kX_bxXWlUBE"
      },
      "source": [
        "###loop in function\r\n",
        "\r\n",
        "###การวนลูปในฟังก์ชั่น"
      ]
    },
    {
      "cell_type": "code",
      "metadata": {
        "id": "Y3gAewallU_B"
      },
      "source": [
        "def print_feelings (I, friends, feeling = 'คิดถึง'):\r\n",
        "    for friend in  friends :\r\n",
        "      print (f' {I} {feeling} {friend}')"
      ],
      "execution_count": null,
      "outputs": []
    },
    {
      "cell_type": "code",
      "metadata": {
        "id": "1GOdnpDmoSda"
      },
      "source": [
        "list_friends = ['เจน','นุ่น','โบว์','ก้อย','นัตตี้','ดรีม']"
      ],
      "execution_count": null,
      "outputs": []
    },
    {
      "cell_type": "code",
      "metadata": {
        "colab": {
          "base_uri": "https://localhost:8080/"
        },
        "id": "V0y4pjLsoaV1",
        "outputId": "ac41dc49-4afb-4402-de45-0dedfda669ea"
      },
      "source": [
        "print_feelings (' ตู่ ' ,list_friends)"
      ],
      "execution_count": null,
      "outputs": [
        {
          "output_type": "stream",
          "text": [
            "  ตู่  คิดถึง เจน\n",
            "  ตู่  คิดถึง นุ่น\n",
            "  ตู่  คิดถึง โบว์\n",
            "  ตู่  คิดถึง ก้อย\n",
            "  ตู่  คิดถึง นัตตี้\n",
            "  ตู่  คิดถึง ดรีม\n"
          ],
          "name": "stdout"
        }
      ]
    },
    {
      "cell_type": "code",
      "metadata": {
        "colab": {
          "base_uri": "https://localhost:8080/"
        },
        "id": "pb6CIQajonj8",
        "outputId": "96a92647-0078-4f24-e7b4-1db3d7a66c2b"
      },
      "source": [
        "print (list_friends)"
      ],
      "execution_count": null,
      "outputs": [
        {
          "output_type": "stream",
          "text": [
            "['เจน', 'นุ่น', 'โบว์', 'ก้อย', 'นัตตี้', 'ดรีม']\n"
          ],
          "name": "stdout"
        }
      ]
    },
    {
      "cell_type": "code",
      "metadata": {
        "colab": {
          "base_uri": "https://localhost:8080/"
        },
        "id": "W-tT5vz6oqYt",
        "outputId": "76734ca7-7250-4a4c-8f4a-bfc0c68551f8"
      },
      "source": [
        "for name1 in list_friends:\r\n",
        "  for name2 in list_friends:\r\n",
        "    if name1 == name2: \r\n",
        "      print(name1, 'รัก',name2)"
      ],
      "execution_count": null,
      "outputs": [
        {
          "output_type": "stream",
          "text": [
            "เจน รัก เจน\n",
            "นุ่น รัก นุ่น\n",
            "โบว์ รัก โบว์\n",
            "ก้อย รัก ก้อย\n",
            "นัตตี้ รัก นัตตี้\n",
            "ดรีม รัก ดรีม\n"
          ],
          "name": "stdout"
        }
      ]
    },
    {
      "cell_type": "code",
      "metadata": {
        "colab": {
          "base_uri": "https://localhost:8080/"
        },
        "id": "xSL5U5GEotSG",
        "outputId": "d73a7fe5-8798-4ca1-cec1-cdde4d12f8dd"
      },
      "source": [
        "for name1 in list_friends:\r\n",
        "  for name2 in list_friends:\r\n",
        "    if name1 != name2: \r\n",
        "      print(name1, 'รัก',name2)"
      ],
      "execution_count": null,
      "outputs": [
        {
          "output_type": "stream",
          "text": [
            "เจน รัก นุ่น\n",
            "เจน รัก โบว์\n",
            "เจน รัก ก้อย\n",
            "เจน รัก นัตตี้\n",
            "เจน รัก ดรีม\n",
            "นุ่น รัก เจน\n",
            "นุ่น รัก โบว์\n",
            "นุ่น รัก ก้อย\n",
            "นุ่น รัก นัตตี้\n",
            "นุ่น รัก ดรีม\n",
            "โบว์ รัก เจน\n",
            "โบว์ รัก นุ่น\n",
            "โบว์ รัก ก้อย\n",
            "โบว์ รัก นัตตี้\n",
            "โบว์ รัก ดรีม\n",
            "ก้อย รัก เจน\n",
            "ก้อย รัก นุ่น\n",
            "ก้อย รัก โบว์\n",
            "ก้อย รัก นัตตี้\n",
            "ก้อย รัก ดรีม\n",
            "นัตตี้ รัก เจน\n",
            "นัตตี้ รัก นุ่น\n",
            "นัตตี้ รัก โบว์\n",
            "นัตตี้ รัก ก้อย\n",
            "นัตตี้ รัก ดรีม\n",
            "ดรีม รัก เจน\n",
            "ดรีม รัก นุ่น\n",
            "ดรีม รัก โบว์\n",
            "ดรีม รัก ก้อย\n",
            "ดรีม รัก นัตตี้\n"
          ],
          "name": "stdout"
        }
      ]
    },
    {
      "cell_type": "markdown",
      "metadata": {
        "id": "qH-UxtvtoyUW"
      },
      "source": [
        "== (เท่ากับ),!= (ไท่เท่ากับ),<= ,>= ,< ,>"
      ]
    },
    {
      "cell_type": "code",
      "metadata": {
        "colab": {
          "base_uri": "https://localhost:8080/"
        },
        "id": "ErrQAFmTozQk",
        "outputId": "7ac7c126-19c1-484f-e41c-2776655ce85d"
      },
      "source": [
        "' เจน ' == ' นุ่น '"
      ],
      "execution_count": null,
      "outputs": [
        {
          "output_type": "execute_result",
          "data": {
            "text/plain": [
              "False"
            ]
          },
          "metadata": {
            "tags": []
          },
          "execution_count": 15
        }
      ]
    },
    {
      "cell_type": "code",
      "metadata": {
        "colab": {
          "base_uri": "https://localhost:8080/"
        },
        "id": "MY32Ae2Oo3ZY",
        "outputId": "57e280e5-4525-4c4d-bc5b-07ba3bd579fc"
      },
      "source": [
        "' เจน ' != ' นุ่น '"
      ],
      "execution_count": null,
      "outputs": [
        {
          "output_type": "execute_result",
          "data": {
            "text/plain": [
              "True"
            ]
          },
          "metadata": {
            "tags": []
          },
          "execution_count": 16
        }
      ]
    },
    {
      "cell_type": "markdown",
      "metadata": {
        "id": "1lHGiGu29IKk"
      },
      "source": [
        "##HW4\r\n",
        "\r\n",
        "###เขียน function ตัดเกรด โดยที่ input เป็นคะแนน(0-100) , output เป็นเกรด (F-A)"
      ]
    },
    {
      "cell_type": "code",
      "metadata": {
        "id": "lFJDnxaF9KLX"
      },
      "source": [
        "def grade (score):\r\n",
        "  if 0 <= score < 50 :\r\n",
        "    print(f'ได้คะแนนเท่ากับ {score} คะแนน เกรดจะเป็น F ' )\r\n",
        "  elif 50 <= score< 55:\r\n",
        "    print(f'ได้คะแนนเท่ากับ {score} คะแนน เกรดจะเป็น D ' )\r\n",
        "  elif 55 <= score< 60:\r\n",
        "    print(f'ได้คะแนนเท่ากับ {score} คะแนน เกรดจะเป็น D+ ' )\r\n",
        "  elif 60 <= score< 65:\r\n",
        "    print(f'ได้คะแนนเท่ากับ {score} คะแนน เกรดจะเป็น C' )\r\n",
        "  elif 65 <= score<70:\r\n",
        "    print(f'ได้คะแนนเท่ากับ {score} คะแนน เกรดจะเป็น C+' ) \r\n",
        "  elif 70 <= score<75:\r\n",
        "    print(f'ได้คะแนนเท่ากับ {score} คะแนน เกรดจะเป็น B  ' )  \r\n",
        "  elif 75 <= score<80:\r\n",
        "    print(f'ได้คะแนนเท่ากับ {score} คะแนน เกรดจะเป็น B+  ' )  \r\n",
        "  elif 80 <= score<100:\r\n",
        "    print(f'ได้คะแนนเท่ากับ {score} คะแนน เกรดจะเป็น A  ' )  \r\n",
        "  else:\r\n",
        "    print(f'ได้คะแนนเท่ากับ {score} คะแนน เกรดจะเป็น error ')"
      ],
      "execution_count": null,
      "outputs": []
    },
    {
      "cell_type": "code",
      "metadata": {
        "id": "n62YZuPd9WcU",
        "colab": {
          "base_uri": "https://localhost:8080/"
        },
        "outputId": "7a399970-2a9e-4c35-d616-2e37198e647e"
      },
      "source": [
        "list_Grade = [1,50,65,90,101,-5,49]\r\n",
        "list_Grade"
      ],
      "execution_count": null,
      "outputs": [
        {
          "output_type": "execute_result",
          "data": {
            "text/plain": [
              "[1, 50, 65, 90, 101, -5, 49]"
            ]
          },
          "metadata": {
            "tags": []
          },
          "execution_count": 2
        }
      ]
    },
    {
      "cell_type": "code",
      "metadata": {
        "id": "-WwLsFlN9Zva",
        "colab": {
          "base_uri": "https://localhost:8080/"
        },
        "outputId": "0b4b40b8-a217-46cc-f6ae-6568b148683e"
      },
      "source": [
        "for i in list_Grade :\r\n",
        "    grade (i)"
      ],
      "execution_count": null,
      "outputs": [
        {
          "output_type": "stream",
          "text": [
            "ได้คะแนนเท่ากับ 1 คะแนน เกรดจะเป็น F \n",
            "ได้คะแนนเท่ากับ 50 คะแนน เกรดจะเป็น D \n",
            "ได้คะแนนเท่ากับ 65 คะแนน เกรดจะเป็น C+\n",
            "ได้คะแนนเท่ากับ 90 คะแนน เกรดจะเป็น A  \n",
            "ได้คะแนนเท่ากับ 101 คะแนน เกรดจะเป็น error \n",
            "ได้คะแนนเท่ากับ -5 คะแนน เกรดจะเป็น error \n",
            "ได้คะแนนเท่ากับ 49 คะแนน เกรดจะเป็น F \n"
          ],
          "name": "stdout"
        }
      ]
    }
  ]
}