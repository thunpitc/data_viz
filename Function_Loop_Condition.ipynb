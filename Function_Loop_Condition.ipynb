{
  "nbformat": 4,
  "nbformat_minor": 0,
  "metadata": {
    "colab": {
      "name": "Function_Loop_Condition.ipynb",
      "provenance": [],
      "authorship_tag": "ABX9TyMP/i8t6L0SGji2yBb7YZ64",
      "include_colab_link": true
    },
    "kernelspec": {
      "name": "python3",
      "display_name": "Python 3"
    }
  },
  "cells": [
    {
      "cell_type": "markdown",
      "metadata": {
        "id": "view-in-github",
        "colab_type": "text"
      },
      "source": [
        "<a href=\"https://colab.research.google.com/github/thunpitc/data_viz/blob/main/Function_Loop_Condition.ipynb\" target=\"_parent\"><img src=\"https://colab.research.google.com/assets/colab-badge.svg\" alt=\"Open In Colab\"/></a>"
      ]
    },
    {
      "cell_type": "code",
      "metadata": {
        "colab": {
          "base_uri": "https://localhost:8080/"
        },
        "id": "dzL4xUONSm1L",
        "outputId": "a316f3e0-0eb7-4b3d-9cbd-3152843a0053"
      },
      "source": [
        "name = 'ธัญพิชชา'\r\n",
        "surname = 'ฤาไกรศรี'\r\n",
        "ID = '603021821-9'\r\n",
        "\r\n",
        "b= f'ชื่อ {name} นามสกุล {surname} รหัส {ID}'\r\n",
        "print (b)"
      ],
      "execution_count": 1,
      "outputs": [
        {
          "output_type": "stream",
          "text": [
            "ชื่อ ธัญพิชชา นามสกุล ฤาไกรศรี รหัส 603021821-9\n"
          ],
          "name": "stdout"
        }
      ]
    },
    {
      "cell_type": "markdown",
      "metadata": {
        "id": "rVRnUZoRSJOc"
      },
      "source": [
        "## Function"
      ]
    },
    {
      "cell_type": "markdown",
      "metadata": {
        "id": "bZxI2oivShoI"
      },
      "source": [
        "## Function template\r\n",
        "### ทำหน้าที่รับ input มาประมวณผลออกมาเป็น output\r\n",
        "### f(x) = y"
      ]
    },
    {
      "cell_type": "markdown",
      "metadata": {
        "id": "Pry_3QFPz8FG"
      },
      "source": [
        "## def คือการกำหนดฟังก์ชัน"
      ]
    },
    {
      "cell_type": "markdown",
      "metadata": {
        "id": "HmUEz0ju0TA5"
      },
      "source": [
        "```python\r\n",
        "       def function_name(_Input_) :\r\n",
        "             do_something with _Input_ to get _Output_\r\n",
        "             return _Output\r\n",
        "```\r\n",
        "\r\n"
      ]
    },
    {
      "cell_type": "markdown",
      "metadata": {
        "id": "Cyjqj0x8ZCQM"
      },
      "source": [
        "###ต้องการเขียน normal function"
      ]
    },
    {
      "cell_type": "code",
      "metadata": {
        "id": "aHX8oR9p0SEI"
      },
      "source": [
        "def print_name (surname , ID , name) :\r\n",
        "    st=f'ชื่อ {name} นามสกุล {surname} รหัส {ID}'\r\n",
        "    return st"
      ],
      "execution_count": 3,
      "outputs": []
    },
    {
      "cell_type": "code",
      "metadata": {
        "colab": {
          "base_uri": "https://localhost:8080/",
          "height": 34
        },
        "id": "1Lwkd2Hq0bCD",
        "outputId": "d5cc22fe-43a0-47fd-ddb6-353dd8729768"
      },
      "source": [
        "print_name('ฤาไกรศรี','603021821-9','ธัญพิชชา')"
      ],
      "execution_count": 4,
      "outputs": [
        {
          "output_type": "execute_result",
          "data": {
            "application/vnd.google.colaboratory.intrinsic+json": {
              "type": "string"
            },
            "text/plain": [
              "'ชื่อ ธัญพิชชา นามสกุล ฤาไกรศรี รหัส 603021821-9'"
            ]
          },
          "metadata": {
            "tags": []
          },
          "execution_count": 4
        }
      ]
    },
    {
      "cell_type": "code",
      "metadata": {
        "colab": {
          "base_uri": "https://localhost:8080/"
        },
        "id": "DP1lnbmF0evW",
        "outputId": "60c76acc-0473-48ba-f4eb-c37062bba5ec"
      },
      "source": [
        "print(print_name(name= 'ธัญพิชชา', surname= 'ฤาไกรศรี', ID= '603021821-9'))"
      ],
      "execution_count": 5,
      "outputs": [
        {
          "output_type": "stream",
          "text": [
            "ชื่อ ธัญพิชชา นามสกุล ฤาไกรศรี รหัส 603021821-9\n"
          ],
          "name": "stdout"
        }
      ]
    },
    {
      "cell_type": "markdown",
      "metadata": {
        "id": "FpYAvNJOZ3vP"
      },
      "source": [
        "เราใช้ เว้นวรรค เพื่อบอกขอบเขตของโปรแกรม\r\n",
        "\r\n",
        "ฟังก์ชั่นไม่จำเป็นต้องมี output"
      ]
    },
    {
      "cell_type": "code",
      "metadata": {
        "id": "Dj8ELqQlZekF"
      },
      "source": [
        "def print_name2 (surname , ID , name) :\r\n",
        "    st=f'ชื่อ {name} นามสกุล {surname} รหัส {ID}'\r\n",
        "    print st"
      ],
      "execution_count": 2,
      "outputs": []
    },
    {
      "cell_type": "code",
      "metadata": {
        "colab": {
          "base_uri": "https://localhost:8080/"
        },
        "id": "ZTfbsBjUaGyS",
        "outputId": "89bcbc15-7165-4168-e598-f0eb0e0e1b7f"
      },
      "source": [
        "print(print_name2(name= 'ธัญพิชชา', surname= 'ฤาไกรศรี', ID= '603021821-9'))"
      ],
      "execution_count": 3,
      "outputs": [
        {
          "output_type": "stream",
          "text": [
            "ชื่อ ธัญพิชชา นามสกุล ฤาไกรศรี รหัส 603021821-9\n"
          ],
          "name": "stdout"
        }
      ]
    },
    {
      "cell_type": "markdown",
      "metadata": {
        "id": "KlwuV8CPa2-4"
      },
      "source": [
        "**ฟังก์ชั่นไม่จำเป็นต้องมี input**"
      ]
    },
    {
      "cell_type": "code",
      "metadata": {
        "id": "3SJt4iLpaa8W"
      },
      "source": [
        "def Pi():\r\n",
        "      return 3.14159265359"
      ],
      "execution_count": 8,
      "outputs": []
    },
    {
      "cell_type": "code",
      "metadata": {
        "colab": {
          "base_uri": "https://localhost:8080/"
        },
        "id": "e3kha_JvbcbC",
        "outputId": "db6fd62c-ed3c-4edd-b6a8-75f6158577d3"
      },
      "source": [
        "Pi()*(2**2) # หาพื้นที่ของวงกลมที่มีรัศมีเท่ากับ Pi* r**2"
      ],
      "execution_count": 10,
      "outputs": [
        {
          "output_type": "execute_result",
          "data": {
            "text/plain": [
              "12.56637061436"
            ]
          },
          "metadata": {
            "tags": []
          },
          "execution_count": 10
        }
      ]
    },
    {
      "cell_type": "markdown",
      "metadata": {
        "id": "3q1Ax1iPcNex"
      },
      "source": [
        "### เราสามารถกำหนดค่า default (ค่าเริ่มต้น) ให้กับฟังก์ชั่นได้"
      ]
    },
    {
      "cell_type": "code",
      "metadata": {
        "id": "smr8odNHcqTp"
      },
      "source": [
        "def print_2lines_default(name, surname, ID, grade='F'):\r\n",
        "    st=f'ชื่อ {name} นามสกุล{surname} รหัส {ID}'\r\n",
        "    print (st)\r\n",
        "    st2=f'เกรดวิชา Data viz >>> {grade}'\r\n",
        "    print (st2)"
      ],
      "execution_count": 12,
      "outputs": []
    },
    {
      "cell_type": "code",
      "metadata": {
        "colab": {
          "base_uri": "https://localhost:8080/"
        },
        "id": "6TD6DR1PeH7d",
        "outputId": "f72a6928-d022-4c00-f7c9-d3a7a922e300"
      },
      "source": [
        " print_2lines_default('ธัญพิชชา', 'ฤาไกรศรี', '603021821-9')"
      ],
      "execution_count": 13,
      "outputs": [
        {
          "output_type": "stream",
          "text": [
            "ชื่อ ธัญพิชชา นามสกุลฤาไกรศรี รหัส 603021821-9\n",
            "เกรดวิชา Data viz >>> F\n"
          ],
          "name": "stdout"
        }
      ]
    },
    {
      "cell_type": "code",
      "metadata": {
        "colab": {
          "base_uri": "https://localhost:8080/"
        },
        "id": "Vm91yZSIe9n0",
        "outputId": "22e4af94-fb7c-4cde-8727-600725ddbdbc"
      },
      "source": [
        "print_2lines_default('ธัญพิชชา', 'ฤาไกรศรี', '603021821-9', 'A')"
      ],
      "execution_count": 14,
      "outputs": [
        {
          "output_type": "stream",
          "text": [
            "ชื่อ ธัญพิชชา นามสกุลฤาไกรศรี รหัส 603021821-9\n",
            "เกรดวิชา Data viz >>> A\n"
          ],
          "name": "stdout"
        }
      ]
    },
    {
      "cell_type": "markdown",
      "metadata": {
        "id": "N_1om_Dq1MBV"
      },
      "source": [
        "### เราสามารถเพิ่มคำสั่งเข้าไปในฟังก์ชั่นอีกได้ โดยการเปลี่ยน คำสั่่ง return เป็น print()ได้ เช่นตัวอย่างนี้ ได้ทำการเพิ่ม"
      ]
    },
    {
      "cell_type": "markdown",
      "metadata": {
        "id": "i_qGD6W9hew6"
      },
      "source": [
        "##LOOP การวนซ้ำ"
      ]
    },
    {
      "cell_type": "markdown",
      "metadata": {
        "id": "itZNYveZiAoK"
      },
      "source": [
        "for เป็นคำที่ใช้บอก python ว่าเรากำลังเขียน loop\r\n",
        "โดย for จะวนดึงสมาชิกจาก ```listA```มาทำ process ```do_somthing```"
      ]
    },
    {
      "cell_type": "code",
      "metadata": {
        "id": "KUuJOnv6h9pW"
      },
      "source": [
        "for each_member in listA :\r\n",
        "  do_something"
      ],
      "execution_count": null,
      "outputs": []
    },
    {
      "cell_type": "markdown",
      "metadata": {
        "id": "XWeTqGq1h-jX"
      },
      "source": [
        ""
      ]
    },
    {
      "cell_type": "markdown",
      "metadata": {
        "id": "agqEQKrQ12-4"
      },
      "source": [
        "### คำสั่ง for เป็นคำสั่งวนซ้ำที่ใช้ควบคุมการทำงานว้ำๆในจำนวนรอบที่แน่นอน"
      ]
    },
    {
      "cell_type": "code",
      "metadata": {
        "colab": {
          "base_uri": "https://localhost:8080/"
        },
        "id": "OSSVLlJ81prs",
        "outputId": "cc83e6b7-9d1a-427f-96f3-f94bfd087f0c"
      },
      "source": [
        "for i in [1,2,3] :\r\n",
        "     o = i**2\r\n",
        "     print (f' this member = {i} after process = {o}')"
      ],
      "execution_count": 17,
      "outputs": [
        {
          "output_type": "stream",
          "text": [
            " this member = 1 after process = 1\n",
            " this member = 2 after process = 4\n",
            " this member = 3 after process = 9\n"
          ],
          "name": "stdout"
        }
      ]
    },
    {
      "cell_type": "markdown",
      "metadata": {
        "id": "k0L51_z92rY5"
      },
      "source": [
        "### จบวันที่ 7 มค. 64"
      ]
    },
    {
      "cell_type": "code",
      "metadata": {
        "id": "uBRwRAxy2mFt"
      },
      "source": [
        ""
      ],
      "execution_count": null,
      "outputs": []
    }
  ]
}