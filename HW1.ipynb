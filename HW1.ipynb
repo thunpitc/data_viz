{
  "nbformat": 4,
  "nbformat_minor": 0,
  "metadata": {
    "colab": {
      "name": "HW1",
      "provenance": [],
      "authorship_tag": "ABX9TyNL+yU9Wg0AeM0gv0OmZwhs",
      "include_colab_link": true
    },
    "kernelspec": {
      "name": "python3",
      "display_name": "Python 3"
    }
  },
  "cells": [
    {
      "cell_type": "markdown",
      "metadata": {
        "id": "view-in-github",
        "colab_type": "text"
      },
      "source": [
        "<a href=\"https://colab.research.google.com/github/thunpitc/data_viz/blob/main/HW1.ipynb\" target=\"_parent\"><img src=\"https://colab.research.google.com/assets/colab-badge.svg\" alt=\"Open In Colab\"/></a>"
      ]
    },
    {
      "cell_type": "code",
      "metadata": {
        "id": "NwdVMytAu63n"
      },
      "source": [
        "time = '12:30:15'"
      ],
      "execution_count": 1,
      "outputs": []
    },
    {
      "cell_type": "code",
      "metadata": {
        "colab": {
          "base_uri": "https://localhost:8080/"
        },
        "id": "D5r9rZ6FvXJf",
        "outputId": "e48a0366-1814-44d8-997e-6623906146f9"
      },
      "source": [
        "time.split(':')"
      ],
      "execution_count": 2,
      "outputs": [
        {
          "output_type": "execute_result",
          "data": {
            "text/plain": [
              "['12', '30', '15']"
            ]
          },
          "metadata": {
            "tags": []
          },
          "execution_count": 2
        }
      ]
    },
    {
      "cell_type": "code",
      "metadata": {
        "colab": {
          "base_uri": "https://localhost:8080/"
        },
        "id": "4OnqP-84vf81",
        "outputId": "5733b111-1367-4c83-91c9-efd5fd2ee91d"
      },
      "source": [
        "list_a = time.split(':')\r\n",
        "print(list_a)"
      ],
      "execution_count": 3,
      "outputs": [
        {
          "output_type": "stream",
          "text": [
            "['12', '30', '15']\n"
          ],
          "name": "stdout"
        }
      ]
    },
    {
      "cell_type": "code",
      "metadata": {
        "colab": {
          "base_uri": "https://localhost:8080/",
          "height": 34
        },
        "id": "Dz3259dXvpX_",
        "outputId": "46d49ea1-1889-4eda-a3ec-8be44c483038"
      },
      "source": [
        "list_a[0]"
      ],
      "execution_count": 4,
      "outputs": [
        {
          "output_type": "execute_result",
          "data": {
            "application/vnd.google.colaboratory.intrinsic+json": {
              "type": "string"
            },
            "text/plain": [
              "'12'"
            ]
          },
          "metadata": {
            "tags": []
          },
          "execution_count": 4
        }
      ]
    },
    {
      "cell_type": "code",
      "metadata": {
        "colab": {
          "base_uri": "https://localhost:8080/",
          "height": 34
        },
        "id": "eza-Kwq_vsoo",
        "outputId": "b359d0f5-b033-4823-a59d-48833e3c026b"
      },
      "source": [
        "list_a[1]"
      ],
      "execution_count": 5,
      "outputs": [
        {
          "output_type": "execute_result",
          "data": {
            "application/vnd.google.colaboratory.intrinsic+json": {
              "type": "string"
            },
            "text/plain": [
              "'30'"
            ]
          },
          "metadata": {
            "tags": []
          },
          "execution_count": 5
        }
      ]
    },
    {
      "cell_type": "code",
      "metadata": {
        "colab": {
          "base_uri": "https://localhost:8080/",
          "height": 34
        },
        "id": "gy1o9GVFvsxP",
        "outputId": "7ea0fb7e-a5ed-4020-befe-8ccad3b5b824"
      },
      "source": [
        "list_a[2]"
      ],
      "execution_count": 6,
      "outputs": [
        {
          "output_type": "execute_result",
          "data": {
            "application/vnd.google.colaboratory.intrinsic+json": {
              "type": "string"
            },
            "text/plain": [
              "'15'"
            ]
          },
          "metadata": {
            "tags": []
          },
          "execution_count": 6
        }
      ]
    },
    {
      "cell_type": "code",
      "metadata": {
        "colab": {
          "base_uri": "https://localhost:8080/"
        },
        "id": "dl7aftftv28M",
        "outputId": "dae86d0d-877f-430c-ec6f-70b0fe768881"
      },
      "source": [
        "x=list_a[0]\r\n",
        "y=list_a[1]\r\n",
        "z=list_a[2]\r\n",
        "print(int(x)*3600+(int(y)*60)+int(z))"
      ],
      "execution_count": 7,
      "outputs": [
        {
          "output_type": "stream",
          "text": [
            "45015\n"
          ],
          "name": "stdout"
        }
      ]
    },
    {
      "cell_type": "code",
      "metadata": {
        "id": "R3Zv6Nz-v6ZI"
      },
      "source": [
        "time = '13:41:07'"
      ],
      "execution_count": 11,
      "outputs": []
    },
    {
      "cell_type": "code",
      "metadata": {
        "colab": {
          "base_uri": "https://localhost:8080/"
        },
        "id": "0VgTg_NKv7-h",
        "outputId": "6af70537-e97b-4ccf-d678-d8d3a2ad79e1"
      },
      "source": [
        "time.split(':')"
      ],
      "execution_count": 12,
      "outputs": [
        {
          "output_type": "execute_result",
          "data": {
            "text/plain": [
              "['13', '41', '07']"
            ]
          },
          "metadata": {
            "tags": []
          },
          "execution_count": 12
        }
      ]
    },
    {
      "cell_type": "code",
      "metadata": {
        "colab": {
          "base_uri": "https://localhost:8080/"
        },
        "id": "kDzRoZQiv8Bx",
        "outputId": "d036199f-a246-4d11-80cb-8a0c138e781b"
      },
      "source": [
        "list_b = time.split(':')\r\n",
        "print(list_b)"
      ],
      "execution_count": 13,
      "outputs": [
        {
          "output_type": "stream",
          "text": [
            "['13', '41', '07']\n"
          ],
          "name": "stdout"
        }
      ]
    },
    {
      "cell_type": "code",
      "metadata": {
        "colab": {
          "base_uri": "https://localhost:8080/",
          "height": 34
        },
        "id": "IgIUPMEov8QS",
        "outputId": "70efa442-1aae-4be8-eb68-03983ee3e79d"
      },
      "source": [
        "list_b[0]"
      ],
      "execution_count": 14,
      "outputs": [
        {
          "output_type": "execute_result",
          "data": {
            "application/vnd.google.colaboratory.intrinsic+json": {
              "type": "string"
            },
            "text/plain": [
              "'13'"
            ]
          },
          "metadata": {
            "tags": []
          },
          "execution_count": 14
        }
      ]
    },
    {
      "cell_type": "code",
      "metadata": {
        "colab": {
          "base_uri": "https://localhost:8080/"
        },
        "id": "poCMFxEywJNn",
        "outputId": "4cadb98e-f3b2-474f-867e-43a7632eef19"
      },
      "source": [
        "x=list_b[0]\r\n",
        "y=list_b[1]\r\n",
        "z=list_b[2]\r\n",
        "print(int(x)*3600+(int(y)*60)+int(z))"
      ],
      "execution_count": 15,
      "outputs": [
        {
          "output_type": "stream",
          "text": [
            "49267\n"
          ],
          "name": "stdout"
        }
      ]
    },
    {
      "cell_type": "code",
      "metadata": {
        "id": "UgI6YCsZwdK9"
      },
      "source": [
        "time = '12:53:15'"
      ],
      "execution_count": 16,
      "outputs": []
    },
    {
      "cell_type": "code",
      "metadata": {
        "colab": {
          "base_uri": "https://localhost:8080/"
        },
        "id": "fuZqdN7owdOZ",
        "outputId": "4a83dd3f-1ac1-4e1f-f9a1-b550f033ef94"
      },
      "source": [
        "time.split(':')"
      ],
      "execution_count": 17,
      "outputs": [
        {
          "output_type": "execute_result",
          "data": {
            "text/plain": [
              "['12', '53', '15']"
            ]
          },
          "metadata": {
            "tags": []
          },
          "execution_count": 17
        }
      ]
    },
    {
      "cell_type": "code",
      "metadata": {
        "colab": {
          "base_uri": "https://localhost:8080/"
        },
        "id": "T3dIdXt8wkUC",
        "outputId": "b8f27698-becb-4123-8123-05e384e9a3aa"
      },
      "source": [
        "list_c = time.split(':')\r\n",
        "print(list_c)"
      ],
      "execution_count": 18,
      "outputs": [
        {
          "output_type": "stream",
          "text": [
            "['12', '53', '15']\n"
          ],
          "name": "stdout"
        }
      ]
    },
    {
      "cell_type": "code",
      "metadata": {
        "colab": {
          "base_uri": "https://localhost:8080/",
          "height": 34
        },
        "id": "OfuSWJTuwkW9",
        "outputId": "1c395453-552a-4303-8070-0309779ccc13"
      },
      "source": [
        "list_c[0]"
      ],
      "execution_count": 19,
      "outputs": [
        {
          "output_type": "execute_result",
          "data": {
            "application/vnd.google.colaboratory.intrinsic+json": {
              "type": "string"
            },
            "text/plain": [
              "'12'"
            ]
          },
          "metadata": {
            "tags": []
          },
          "execution_count": 19
        }
      ]
    },
    {
      "cell_type": "code",
      "metadata": {
        "colab": {
          "base_uri": "https://localhost:8080/"
        },
        "id": "Vla0qMTJwrBz",
        "outputId": "6e0d4008-0332-47e5-f452-f9b669da27d0"
      },
      "source": [
        "x=list_c[0]\r\n",
        "y=list_c[1]\r\n",
        "z=list_c[2]\r\n",
        "print(int(x)*3600+(int(y)*60)+int(z))"
      ],
      "execution_count": 20,
      "outputs": [
        {
          "output_type": "stream",
          "text": [
            "46395\n"
          ],
          "name": "stdout"
        }
      ]
    },
    {
      "cell_type": "code",
      "metadata": {
        "id": "MZ_rD13-wt35"
      },
      "source": [
        "time = '00:59:25'"
      ],
      "execution_count": 21,
      "outputs": []
    },
    {
      "cell_type": "code",
      "metadata": {
        "colab": {
          "base_uri": "https://localhost:8080/"
        },
        "id": "dSRi090Kwt-e",
        "outputId": "228db990-eeda-4f02-db8c-4b02973b6713"
      },
      "source": [
        "time.split(':')"
      ],
      "execution_count": 22,
      "outputs": [
        {
          "output_type": "execute_result",
          "data": {
            "text/plain": [
              "['00', '59', '25']"
            ]
          },
          "metadata": {
            "tags": []
          },
          "execution_count": 22
        }
      ]
    },
    {
      "cell_type": "code",
      "metadata": {
        "colab": {
          "base_uri": "https://localhost:8080/"
        },
        "id": "PdSkNC3vwuDc",
        "outputId": "8f50bb26-6e0a-4181-9cdf-3390b0f43b96"
      },
      "source": [
        "list_d = time.split(':')\r\n",
        "print(list_d)"
      ],
      "execution_count": 23,
      "outputs": [
        {
          "output_type": "stream",
          "text": [
            "['00', '59', '25']\n"
          ],
          "name": "stdout"
        }
      ]
    },
    {
      "cell_type": "code",
      "metadata": {
        "colab": {
          "base_uri": "https://localhost:8080/",
          "height": 34
        },
        "id": "Tyqcli9EwuHQ",
        "outputId": "7b647768-99d0-412b-c98a-1c5668961050"
      },
      "source": [
        "list_d[0]"
      ],
      "execution_count": 24,
      "outputs": [
        {
          "output_type": "execute_result",
          "data": {
            "application/vnd.google.colaboratory.intrinsic+json": {
              "type": "string"
            },
            "text/plain": [
              "'00'"
            ]
          },
          "metadata": {
            "tags": []
          },
          "execution_count": 24
        }
      ]
    },
    {
      "cell_type": "code",
      "metadata": {
        "colab": {
          "base_uri": "https://localhost:8080/"
        },
        "id": "MbHUtX_EwuLd",
        "outputId": "488c6276-0c1b-4774-f4f3-8d388d091996"
      },
      "source": [
        "x=list_d[0]\r\n",
        "y=list_d[1]\r\n",
        "z=list_d[2]\r\n",
        "print(int(x)*3600+(int(y)*60)+int(z))"
      ],
      "execution_count": 25,
      "outputs": [
        {
          "output_type": "stream",
          "text": [
            "3565\n"
          ],
          "name": "stdout"
        }
      ]
    },
    {
      "cell_type": "code",
      "metadata": {
        "id": "P133W7YZwuPy"
      },
      "source": [
        "time = '11:11:11'"
      ],
      "execution_count": 26,
      "outputs": []
    },
    {
      "cell_type": "code",
      "metadata": {
        "colab": {
          "base_uri": "https://localhost:8080/"
        },
        "id": "r2iP6_QMw8ZA",
        "outputId": "01436659-117b-4196-e6a3-a03c25bfb997"
      },
      "source": [
        "time.split(':')"
      ],
      "execution_count": 27,
      "outputs": [
        {
          "output_type": "execute_result",
          "data": {
            "text/plain": [
              "['11', '11', '11']"
            ]
          },
          "metadata": {
            "tags": []
          },
          "execution_count": 27
        }
      ]
    },
    {
      "cell_type": "code",
      "metadata": {
        "colab": {
          "base_uri": "https://localhost:8080/"
        },
        "id": "U15bbx1Aw8gi",
        "outputId": "cbafa2f1-e87f-4c4c-b1ed-105e69a239e8"
      },
      "source": [
        "list_e = time.split(':')\r\n",
        "print(list_e)"
      ],
      "execution_count": 28,
      "outputs": [
        {
          "output_type": "stream",
          "text": [
            "['11', '11', '11']\n"
          ],
          "name": "stdout"
        }
      ]
    },
    {
      "cell_type": "code",
      "metadata": {
        "colab": {
          "base_uri": "https://localhost:8080/",
          "height": 34
        },
        "id": "XWaukyonw8kf",
        "outputId": "69a8493a-b16e-4f5b-8b9e-e5e11268a347"
      },
      "source": [
        "list_e[0]"
      ],
      "execution_count": 29,
      "outputs": [
        {
          "output_type": "execute_result",
          "data": {
            "application/vnd.google.colaboratory.intrinsic+json": {
              "type": "string"
            },
            "text/plain": [
              "'11'"
            ]
          },
          "metadata": {
            "tags": []
          },
          "execution_count": 29
        }
      ]
    },
    {
      "cell_type": "code",
      "metadata": {
        "colab": {
          "base_uri": "https://localhost:8080/"
        },
        "id": "AdM8-kXwxKQu",
        "outputId": "f01bf166-8435-4f7d-a3b3-acd04f552eb1"
      },
      "source": [
        "x=list_e[0]\r\n",
        "y=list_e[1]\r\n",
        "z=list_e[2]\r\n",
        "print(int(x)*3600+(int(y)*60)+int(z))"
      ],
      "execution_count": 30,
      "outputs": [
        {
          "output_type": "stream",
          "text": [
            "40271\n"
          ],
          "name": "stdout"
        }
      ]
    },
    {
      "cell_type": "code",
      "metadata": {
        "id": "U97BIF3DxcNk"
      },
      "source": [
        "time = '16:06:09'"
      ],
      "execution_count": 31,
      "outputs": []
    },
    {
      "cell_type": "code",
      "metadata": {
        "colab": {
          "base_uri": "https://localhost:8080/"
        },
        "id": "zRMr7VTZxcRA",
        "outputId": "7c1bb3e7-ef56-4ca2-e464-09fffe5650a5"
      },
      "source": [
        "time.split(':')"
      ],
      "execution_count": 32,
      "outputs": [
        {
          "output_type": "execute_result",
          "data": {
            "text/plain": [
              "['16', '06', '09']"
            ]
          },
          "metadata": {
            "tags": []
          },
          "execution_count": 32
        }
      ]
    },
    {
      "cell_type": "code",
      "metadata": {
        "colab": {
          "base_uri": "https://localhost:8080/"
        },
        "id": "WRqRi4evxcV6",
        "outputId": "41305e82-301a-45f1-eb99-dcd210081b29"
      },
      "source": [
        "list_f = time.split(':')\r\n",
        "print(list_f)"
      ],
      "execution_count": 33,
      "outputs": [
        {
          "output_type": "stream",
          "text": [
            "['16', '06', '09']\n"
          ],
          "name": "stdout"
        }
      ]
    },
    {
      "cell_type": "code",
      "metadata": {
        "colab": {
          "base_uri": "https://localhost:8080/",
          "height": 34
        },
        "id": "GcqHr9LVxcaV",
        "outputId": "b789ae94-4f79-4674-fe25-8842b9ac0197"
      },
      "source": [
        "list_e[0]"
      ],
      "execution_count": 34,
      "outputs": [
        {
          "output_type": "execute_result",
          "data": {
            "application/vnd.google.colaboratory.intrinsic+json": {
              "type": "string"
            },
            "text/plain": [
              "'11'"
            ]
          },
          "metadata": {
            "tags": []
          },
          "execution_count": 34
        }
      ]
    },
    {
      "cell_type": "code",
      "metadata": {
        "colab": {
          "base_uri": "https://localhost:8080/"
        },
        "id": "bRoaFubwxlbI",
        "outputId": "f70c8470-838a-4a2c-93c1-178049329020"
      },
      "source": [
        "x=list_f[0]\r\n",
        "y=list_f[1]\r\n",
        "z=list_f[2]\r\n",
        "print(int(x)*3600+(int(y)*60)+int(z))"
      ],
      "execution_count": 35,
      "outputs": [
        {
          "output_type": "stream",
          "text": [
            "57969\n"
          ],
          "name": "stdout"
        }
      ]
    }
  ]
}