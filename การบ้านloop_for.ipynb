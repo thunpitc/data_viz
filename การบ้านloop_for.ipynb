{
  "nbformat": 4,
  "nbformat_minor": 0,
  "metadata": {
    "colab": {
      "name": "การบ้านloop_for",
      "provenance": [],
      "authorship_tag": "ABX9TyNXXn65Y+xB0ek1NHWYa3vZ",
      "include_colab_link": true
    },
    "kernelspec": {
      "name": "python3",
      "display_name": "Python 3"
    }
  },
  "cells": [
    {
      "cell_type": "markdown",
      "metadata": {
        "id": "view-in-github",
        "colab_type": "text"
      },
      "source": [
        "<a href=\"https://colab.research.google.com/github/thunpitc/data_viz/blob/main/%E0%B8%81%E0%B8%B2%E0%B8%A3%E0%B8%9A%E0%B9%89%E0%B8%B2%E0%B8%99loop_for.ipynb\" target=\"_parent\"><img src=\"https://colab.research.google.com/assets/colab-badge.svg\" alt=\"Open In Colab\"/></a>"
      ]
    },
    {
      "cell_type": "markdown",
      "metadata": {
        "id": "RRNAwihs8bou"
      },
      "source": [
        "12:30:15\r\n",
        "\r\n",
        "13:41:07\r\n",
        "\r\n",
        "12:53:15\r\n",
        "\r\n",
        "00:59:25\r\n",
        "\r\n",
        "11:11:11\r\n",
        "\r\n",
        "16:06:09\r\n"
      ]
    },
    {
      "cell_type": "markdown",
      "metadata": {
        "id": "Pob4bCZo8kAd"
      },
      "source": [
        "##  HW3"
      ]
    },
    {
      "cell_type": "code",
      "metadata": {
        "id": "GJEzxgOU8bKX"
      },
      "source": [
        "def Time_sec(Time):\r\n",
        "  list_Time = Time.split(':') \r\n",
        "  h = (int(list_Time[0])*3600)\r\n",
        "  Min = (int(list_Time[1])*60)\r\n",
        "  Sec = (int(list_Time[2]))\r\n",
        "  sum = f'เวลา {Time}   = {h+Min+Sec} วินาที'\r\n",
        "  print(sum)"
      ],
      "execution_count": 9,
      "outputs": []
    },
    {
      "cell_type": "code",
      "metadata": {
        "colab": {
          "base_uri": "https://localhost:8080/"
        },
        "id": "WvB2mTQrlkS3",
        "outputId": "ebbdfd13-f6bd-4132-e071-be62c497aa11"
      },
      "source": [
        "Time_sec('12:30:15')\r\n",
        "Time_sec('13:41:07')\r\n",
        "Time_sec('12:53:15')\r\n",
        "Time_sec('00:59:25')\r\n",
        "Time_sec('11:11:11')\r\n",
        "Time_sec('16:06:09')"
      ],
      "execution_count": 10,
      "outputs": [
        {
          "output_type": "stream",
          "text": [
            "เวลา 12:30:15   = 45015 วินาที\n",
            "เวลา 13:41:07   = 49267 วินาที\n",
            "เวลา 12:53:15   = 46395 วินาที\n",
            "เวลา 00:59:25   = 3565 วินาที\n",
            "เวลา 11:11:11   = 40271 วินาที\n",
            "เวลา 16:06:09   = 57969 วินาที\n"
          ],
          "name": "stdout"
        }
      ]
    },
    {
      "cell_type": "markdown",
      "metadata": {
        "id": "-dnb1jW59lKd"
      },
      "source": [
        "###ให้สร้าง list ของเวลา ['12:30:15,13:41:07,12:53:15,00:59:25,11:11:11,16:06:09'] แล้ววนลูปเรียกฟังก์ชันคำนวณเวลาเป็นวินาที"
      ]
    },
    {
      "cell_type": "code",
      "metadata": {
        "colab": {
          "base_uri": "https://localhost:8080/"
        },
        "id": "Pd-n679GmUzt",
        "outputId": "99fbbff5-0286-49fa-f4c0-835fe51ee297"
      },
      "source": [
        "for Time in ['12:30:15','13:41:07','12:53:15','00:59:25','11:11:11','16:06:09'] :\r\n",
        "    list_T = Time.split(':')\r\n",
        "    sum_sec = (int(list_T[0])*3600)+(int(list_T[1])*60)+(int(list_T[2]))\r\n",
        "    print (f'เวลา {Time}   = {sum_sec} วินาที')"
      ],
      "execution_count": 11,
      "outputs": [
        {
          "output_type": "stream",
          "text": [
            "เวลา 12:30:15   = 45015 วินาที\n",
            "เวลา 13:41:07   = 49267 วินาที\n",
            "เวลา 12:53:15   = 46395 วินาที\n",
            "เวลา 00:59:25   = 3565 วินาที\n",
            "เวลา 11:11:11   = 40271 วินาที\n",
            "เวลา 16:06:09   = 57969 วินาที\n"
          ],
          "name": "stdout"
        }
      ]
    }
  ]
}